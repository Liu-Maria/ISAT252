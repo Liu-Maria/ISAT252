{
 "cells": [
  {
   "cell_type": "markdown",
   "metadata": {},
   "source": [
    "# ISAT225 Final Project \n",
    "## How to Analyze and Visualize Covid-19 Data"
   ]
  },
  {
   "cell_type": "markdown",
   "metadata": {},
   "source": [
    "###### Covid-19 (AKA SARS CoV-2) is a virus that began in December 2019 originating in the Wuhan region of China. It is one of the seven coronaviruses that can infect humans, the name coming from the protein spikes covering them that looks like a crown, or corona in latin. Out of these seven, four of them infect the nose and throat causing flu-like symptoms, and two infect the lungs causing more severe illness. The newest one, however, has features of both, spreading easily and impacting the lungs. "
   ]
  },
  {
   "cell_type": "code",
   "execution_count": 3,
   "metadata": {},
   "outputs": [],
   "source": [
    "import pandas\n",
    "%matplotlib inline\n",
    "import matplotlib.pyplot as plt"
   ]
  },
  {
   "cell_type": "code",
   "execution_count": 4,
   "metadata": {},
   "outputs": [
    {
     "data": {
      "text/html": [
       "<div>\n",
       "<style scoped>\n",
       "    .dataframe tbody tr th:only-of-type {\n",
       "        vertical-align: middle;\n",
       "    }\n",
       "\n",
       "    .dataframe tbody tr th {\n",
       "        vertical-align: top;\n",
       "    }\n",
       "\n",
       "    .dataframe thead th {\n",
       "        text-align: right;\n",
       "    }\n",
       "</style>\n",
       "<table border=\"1\" class=\"dataframe\">\n",
       "  <thead>\n",
       "    <tr style=\"text-align: right;\">\n",
       "      <th></th>\n",
       "      <th>dateRep</th>\n",
       "      <th>day</th>\n",
       "      <th>month</th>\n",
       "      <th>year</th>\n",
       "      <th>cases</th>\n",
       "      <th>deaths</th>\n",
       "      <th>countriesAndTerritories</th>\n",
       "      <th>geoId</th>\n",
       "      <th>countryterritoryCode</th>\n",
       "      <th>popData2018</th>\n",
       "      <th>continentExp</th>\n",
       "    </tr>\n",
       "  </thead>\n",
       "  <tbody>\n",
       "    <tr>\n",
       "      <th>0</th>\n",
       "      <td>09/06/2020</td>\n",
       "      <td>9</td>\n",
       "      <td>6</td>\n",
       "      <td>2020</td>\n",
       "      <td>575</td>\n",
       "      <td>12</td>\n",
       "      <td>Afghanistan</td>\n",
       "      <td>AF</td>\n",
       "      <td>AFG</td>\n",
       "      <td>37172386.0</td>\n",
       "      <td>Asia</td>\n",
       "    </tr>\n",
       "    <tr>\n",
       "      <th>1</th>\n",
       "      <td>08/06/2020</td>\n",
       "      <td>8</td>\n",
       "      <td>6</td>\n",
       "      <td>2020</td>\n",
       "      <td>791</td>\n",
       "      <td>30</td>\n",
       "      <td>Afghanistan</td>\n",
       "      <td>AF</td>\n",
       "      <td>AFG</td>\n",
       "      <td>37172386.0</td>\n",
       "      <td>Asia</td>\n",
       "    </tr>\n",
       "    <tr>\n",
       "      <th>2</th>\n",
       "      <td>07/06/2020</td>\n",
       "      <td>7</td>\n",
       "      <td>6</td>\n",
       "      <td>2020</td>\n",
       "      <td>582</td>\n",
       "      <td>18</td>\n",
       "      <td>Afghanistan</td>\n",
       "      <td>AF</td>\n",
       "      <td>AFG</td>\n",
       "      <td>37172386.0</td>\n",
       "      <td>Asia</td>\n",
       "    </tr>\n",
       "    <tr>\n",
       "      <th>3</th>\n",
       "      <td>06/06/2020</td>\n",
       "      <td>6</td>\n",
       "      <td>6</td>\n",
       "      <td>2020</td>\n",
       "      <td>915</td>\n",
       "      <td>9</td>\n",
       "      <td>Afghanistan</td>\n",
       "      <td>AF</td>\n",
       "      <td>AFG</td>\n",
       "      <td>37172386.0</td>\n",
       "      <td>Asia</td>\n",
       "    </tr>\n",
       "    <tr>\n",
       "      <th>4</th>\n",
       "      <td>05/06/2020</td>\n",
       "      <td>5</td>\n",
       "      <td>6</td>\n",
       "      <td>2020</td>\n",
       "      <td>787</td>\n",
       "      <td>6</td>\n",
       "      <td>Afghanistan</td>\n",
       "      <td>AF</td>\n",
       "      <td>AFG</td>\n",
       "      <td>37172386.0</td>\n",
       "      <td>Asia</td>\n",
       "    </tr>\n",
       "  </tbody>\n",
       "</table>\n",
       "</div>"
      ],
      "text/plain": [
       "      dateRep  day  month  year  cases  deaths countriesAndTerritories geoId  \\\n",
       "0  09/06/2020    9      6  2020    575      12             Afghanistan    AF   \n",
       "1  08/06/2020    8      6  2020    791      30             Afghanistan    AF   \n",
       "2  07/06/2020    7      6  2020    582      18             Afghanistan    AF   \n",
       "3  06/06/2020    6      6  2020    915       9             Afghanistan    AF   \n",
       "4  05/06/2020    5      6  2020    787       6             Afghanistan    AF   \n",
       "\n",
       "  countryterritoryCode  popData2018 continentExp  \n",
       "0                  AFG   37172386.0         Asia  \n",
       "1                  AFG   37172386.0         Asia  \n",
       "2                  AFG   37172386.0         Asia  \n",
       "3                  AFG   37172386.0         Asia  \n",
       "4                  AFG   37172386.0         Asia  "
      ]
     },
     "execution_count": 4,
     "metadata": {},
     "output_type": "execute_result"
    }
   ],
   "source": [
    "df = pandas.read_csv('s3://isat252-liu/csv')     #Reading in the file\n",
    "df[:5]    #Running it"
   ]
  },
  {
   "cell_type": "markdown",
   "metadata": {},
   "source": [
    "## Looking at the number of cases and deaths by continent"
   ]
  },
  {
   "cell_type": "code",
   "execution_count": 7,
   "metadata": {
    "scrolled": true
   },
   "outputs": [
    {
     "data": {
      "text/plain": [
       "continentExp\n",
       "Africa      196570\n",
       "America    3403398\n",
       "Asia       1375372\n",
       "Europe     2084509\n",
       "Oceania       8733\n",
       "Other          696\n",
       "Name: cases, dtype: int64"
      ]
     },
     "execution_count": 7,
     "metadata": {},
     "output_type": "execute_result"
    }
   ],
   "source": [
    "cases_by_continent = df.groupby('continentExp').sum()['cases']    #The total number of cases per continent\n",
    "cases_by_continent[:]"
   ]
  },
  {
   "cell_type": "code",
   "execution_count": 14,
   "metadata": {
    "scrolled": true
   },
   "outputs": [
    {
     "data": {
      "text/plain": [
       "<matplotlib.axes._subplots.AxesSubplot at 0x7fe5fcc4b518>"
      ]
     },
     "execution_count": 14,
     "metadata": {},
     "output_type": "execute_result"
    },
    {
     "data": {
      "image/png": "[encoded data removed]",
      "text/plain": [
       "<Figure size 432x288 with 1 Axes>"
      ]
     },
     "metadata": {},
     "output_type": "display_data"
    }
   ],
   "source": [
    "cases_by_continent.plot.pie()"
   ]
  },
  {
   "cell_type": "code",
   "execution_count": 5,
   "metadata": {},
   "outputs": [
    {
     "data": {
      "text/plain": [
       "continentExp\n",
       "Africa       5346\n",
       "America    185311\n",
       "Asia        35407\n",
       "Europe     179385\n",
       "Oceania       131\n",
       "Other           7\n",
       "Name: deaths, dtype: int64"
      ]
     },
     "execution_count": 5,
     "metadata": {},
     "output_type": "execute_result"
    }
   ],
   "source": [
    "deaths_by_continent = df.groupby('continentExp').sum()['deaths']      #The total number of deaths per continent\n",
    "deaths_by_continent[:]"
   ]
  },
  {
   "cell_type": "code",
   "execution_count": 17,
   "metadata": {},
   "outputs": [
    {
     "data": {
      "text/plain": [
       "<matplotlib.axes._subplots.AxesSubplot at 0x7fe5fcbe5668>"
      ]
     },
     "execution_count": 17,
     "metadata": {},
     "output_type": "execute_result"
    },
    {
     "data": {
      "image/png": "[encoded data removed]",
      "text/plain": [
       "<Figure size 432x288 with 1 Axes>"
      ]
     },
     "metadata": {},
     "output_type": "display_data"
    }
   ],
   "source": [
    "deaths_by_continent.plot.pie()"
   ]
  },
  {
   "cell_type": "code",
   "execution_count": 8,
   "metadata": {},
   "outputs": [
    {
     "data": {
      "text/plain": [
       "continentExp\n",
       "Africa     0.027196\n",
       "America    0.054449\n",
       "Asia       0.025744\n",
       "Europe     0.086056\n",
       "Oceania    0.015001\n",
       "Other      0.010057\n",
       "dtype: float64"
      ]
     },
     "execution_count": 8,
     "metadata": {},
     "output_type": "execute_result"
    }
   ],
   "source": [
    "death_percentage_of_cases_by_continent = deaths_by_continent/cases_by_continent   #Percentage of deaths based on cases\n",
    "death_percentage_of_cases_by_continent"
   ]
  },
  {
   "cell_type": "markdown",
   "metadata": {},
   "source": [
    "###### It looks like Europe and America have the largest percentage of deaths from Covid-19 while Oceanian and Asia have far fewer. America "
   ]
  },
  {
   "cell_type": "markdown",
   "metadata": {},
   "source": [
    "## Looking at the countries with the highest death percentages as well as the lowest."
   ]
  },
  {
   "cell_type": "code",
   "execution_count": 28,
   "metadata": {},
   "outputs": [],
   "source": [
    "death_percentages = df.groupby('countriesAndTerritories').sum()['deaths']/df.groupby('countriesAndTerritories').sum()['cases']"
   ]
  },
  {
   "cell_type": "code",
   "execution_count": 43,
   "metadata": {},
   "outputs": [
    {
     "data": {
      "text/plain": [
       "count    210.000000\n",
       "mean       0.034977\n",
       "std        0.038451\n",
       "min        0.000000\n",
       "25%        0.008410\n",
       "50%        0.024221\n",
       "75%        0.048723\n",
       "max        0.225806\n",
       "dtype: float64"
      ]
     },
     "execution_count": 43,
     "metadata": {},
     "output_type": "execute_result"
    }
   ],
   "source": [
    "death_percentages.describe()"
   ]
  },
  {
   "cell_type": "code",
   "execution_count": 45,
   "metadata": {},
   "outputs": [
    {
     "data": {
      "text/plain": [
       "<bound method Series.sort_values of countriesAndTerritories\n",
       "Afghanistan                          0.017641\n",
       "Albania                              0.026920\n",
       "Algeria                              0.069654\n",
       "Andorra                              0.059859\n",
       "Angola                               0.043478\n",
       "Anguilla                             0.000000\n",
       "Antigua_and_Barbuda                  0.115385\n",
       "Argentina                            0.029356\n",
       "Armenia                              0.015835\n",
       "Aruba                                0.029703\n",
       "Australia                            0.014040\n",
       "Austria                              0.039789\n",
       "Azerbaijan                           0.011808\n",
       "Bahamas                              0.106796\n",
       "Bahrain                              0.001686\n",
       "Bangladesh                           0.013576\n",
       "Barbados                             0.076087\n",
       "Belarus                              0.005581\n",
       "Belgium                              0.161909\n",
       "Belize                               0.105263\n",
       "Benin                                0.013115\n",
       "Bermuda                              0.063830\n",
       "Bhutan                               0.000000\n",
       "Bolivia                              0.034053\n",
       "Bonaire, Saint Eustatius and Saba    0.000000\n",
       "Bosnia_and_Herzegovina               0.058824\n",
       "Botswana                             0.023810\n",
       "Brazil                               0.052699\n",
       "British_Virgin_Islands               0.125000\n",
       "Brunei_Darussalam                    0.014184\n",
       "                                       ...   \n",
       "Sri_Lanka                            0.005924\n",
       "Sudan                                0.059596\n",
       "Suriname                             0.015385\n",
       "Sweden                               0.104004\n",
       "Switzerland                          0.053741\n",
       "Syria                                0.041667\n",
       "Taiwan                               0.015801\n",
       "Tajikistan                           0.010414\n",
       "Thailand                             0.018596\n",
       "Timor_Leste                          0.000000\n",
       "Togo                                 0.026157\n",
       "Trinidad_and_Tobago                  0.068376\n",
       "Tunisia                              0.045078\n",
       "Turkey                               0.027530\n",
       "Turks_and_Caicos_islands             0.083333\n",
       "Uganda                               0.000000\n",
       "Ukraine                              0.029022\n",
       "United_Arab_Emirates                 0.007136\n",
       "United_Kingdom                       0.141257\n",
       "United_Republic_of_Tanzania          0.041257\n",
       "United_States_Virgin_Islands         0.084507\n",
       "United_States_of_America             0.056602\n",
       "Uruguay                              0.027219\n",
       "Uzbekistan                           0.004047\n",
       "Venezuela                            0.008896\n",
       "Vietnam                              0.000000\n",
       "Western_Sahara                       0.043478\n",
       "Yemen                                0.225806\n",
       "Zambia                               0.008333\n",
       "Zimbabwe                             0.013937\n",
       "Length: 210, dtype: float64>"
      ]
     },
     "execution_count": 45,
     "metadata": {},
     "output_type": "execute_result"
    }
   ],
   "source": [
    "death_percentages.sort_values"
   ]
  },
  {
   "cell_type": "code",
   "execution_count": 40,
   "metadata": {},
   "outputs": [
    {
     "data": {
      "text/plain": [
       "countriesAndTerritories\n",
       "Anguilla                             0.0\n",
       "Bhutan                               0.0\n",
       "Bonaire, Saint Eustatius and Saba    0.0\n",
       "Cambodia                             0.0\n",
       "Dominica                             0.0\n",
       "Eritrea                              0.0\n",
       "Falkland_Islands_(Malvinas)          0.0\n",
       "Faroe_Islands                        0.0\n",
       "Fiji                                 0.0\n",
       "French_Polynesia                     0.0\n",
       "Gibraltar                            0.0\n",
       "Greenland                            0.0\n",
       "Grenada                              0.0\n",
       "Holy_See                             0.0\n",
       "Laos                                 0.0\n",
       "Lesotho                              0.0\n",
       "Mongolia                             0.0\n",
       "Namibia                              0.0\n",
       "New_Caledonia                        0.0\n",
       "Papua_New_Guinea                     0.0\n",
       "Saint_Kitts_and_Nevis                0.0\n",
       "Saint_Lucia                          0.0\n",
       "Saint_Vincent_and_the_Grenadines     0.0\n",
       "Seychelles                           0.0\n",
       "Timor_Leste                          0.0\n",
       "Uganda                               0.0\n",
       "Vietnam                              0.0\n",
       "dtype: float64"
      ]
     },
     "execution_count": 40,
     "metadata": {},
     "output_type": "execute_result"
    }
   ],
   "source": [
    "countries_no_death = death_percentages.loc[death_percentages == 0]\n",
    "countries_no_death[:]"
   ]
  },
  {
   "cell_type": "code",
   "execution_count": 47,
   "metadata": {},
   "outputs": [],
   "source": [
    "# countries_no_death.groupby('continentExp').count_values"
   ]
  },
  {
   "cell_type": "code",
   "execution_count": 26,
   "metadata": {
    "scrolled": true
   },
   "outputs": [
    {
     "data": {
      "text/plain": [
       "<matplotlib.axes._subplots.AxesSubplot at 0x7f6b9eea5c50>"
      ]
     },
     "execution_count": 26,
     "metadata": {},
     "output_type": "execute_result"
    },
    {
     "data": {
      "image/png": "[encoded data removed]",
      "text/plain": [
       "<Figure size 432x288 with 1 Axes>"
      ]
     },
     "metadata": {},
     "output_type": "display_data"
    }
   ],
   "source": [
    "usa_data = df.loc[df['countriesAndTerritories'] == 'United_States_of_America']\n",
    "usa_data.plot.scatter(x='cases',y='deaths')\n",
    "cases_in_usa = df.groupby()"
   ]
  },
  {
   "cell_type": "markdown",
   "metadata": {},
   "source": [
    "## Comparing cases each day by territory/country"
   ]
  },
  {
   "cell_type": "code",
   "execution_count": 11,
   "metadata": {},
   "outputs": [],
   "source": [
    "# cases_in_afghanistan = df.loc[df['countriesAndTerritories'] == 'Afghanistan' ]\n",
    "# cases_in_afghanistan.describe()"
   ]
  },
  {
   "cell_type": "code",
   "execution_count": 22,
   "metadata": {},
   "outputs": [
    {
     "data": {
      "text/plain": [
       "countriesAndTerritories\n",
       "Australia                   7265\n",
       "Fiji                          18\n",
       "French_Polynesia              60\n",
       "Guam                         180\n",
       "New_Caledonia                 20\n",
       "New_Zealand                 1154\n",
       "Northern_Mariana_Islands      28\n",
       "Papua_New_Guinea               8\n",
       "Name: cases, dtype: int64"
      ]
     },
     "execution_count": 22,
     "metadata": {},
     "output_type": "execute_result"
    }
   ],
   "source": [
    "cases_in_oceania = df.loc[df['continentExp'] == 'Oceania' ]\n",
    "cases_in_oceania.groupby('countriesAndTerritories').sum()['cases']"
   ]
  },
  {
   "cell_type": "code",
   "execution_count": 9,
   "metadata": {},
   "outputs": [
    {
     "data": {
      "text/plain": [
       "countriesAndTerritories\n",
       "Anguilla                                   3\n",
       "Antigua_and_Barbuda                       26\n",
       "Argentina                              23607\n",
       "Aruba                                    101\n",
       "Bahamas                                  103\n",
       "Barbados                                  92\n",
       "Belize                                    19\n",
       "Bermuda                                  141\n",
       "Bolivia                                13949\n",
       "Bonaire, Saint Eustatius and Saba          7\n",
       "Brazil                                691758\n",
       "British_Virgin_Islands                     8\n",
       "Canada                                 96233\n",
       "Cayman_Islands                           171\n",
       "Chile                                 138846\n",
       "Colombia                               40719\n",
       "Costa_Rica                              1342\n",
       "Cuba                                    2200\n",
       "Curaçao                                   21\n",
       "Dominica                                  18\n",
       "Dominican_Republic                     20126\n",
       "Ecuador                                43378\n",
       "El_Salvador                             3104\n",
       "Falkland_Islands_(Malvinas)               13\n",
       "Greenland                                 13\n",
       "Grenada                                   23\n",
       "Guatemala                               7502\n",
       "Guyana                                   154\n",
       "Haiti                                   3538\n",
       "Honduras                                6450\n",
       "Jamaica                                  599\n",
       "Mexico                                120102\n",
       "Montserrat                                11\n",
       "Nicaragua                               1309\n",
       "Panama                                 16854\n",
       "Paraguay                                1145\n",
       "Peru                                  199696\n",
       "Puerto_Rico                             5046\n",
       "Saint_Kitts_and_Nevis                     15\n",
       "Saint_Lucia                               19\n",
       "Saint_Vincent_and_the_Grenadines          27\n",
       "Sint_Maarten                              77\n",
       "Suriname                                 130\n",
       "Trinidad_and_Tobago                      117\n",
       "Turks_and_Caicos_islands                  12\n",
       "United_States_Virgin_Islands              71\n",
       "United_States_of_America             1961185\n",
       "Uruguay                                  845\n",
       "Venezuela                               2473\n",
       "Name: cases, dtype: int64"
      ]
     },
     "execution_count": 9,
     "metadata": {},
     "output_type": "execute_result"
    }
   ],
   "source": [
    "cases_in_america = df.loc[df['continentExp'] == 'America' ]\n",
    "cases_in_america.groupby('countriesAndTerritories').sum()['cases']"
   ]
  },
  {
   "cell_type": "code",
   "execution_count": 10,
   "metadata": {
    "scrolled": true
   },
   "outputs": [
    {
     "ename": "ValueError",
     "evalue": "pie requires either y column or 'subplots=True'",
     "output_type": "error",
     "traceback": [
      "\u001b[0;31m---------------------------------------------------------------------------\u001b[0m",
      "\u001b[0;31mValueError\u001b[0m                                Traceback (most recent call last)",
      "\u001b[0;32m<ipython-input-10-e09fcd6510c7>\u001b[0m in \u001b[0;36m<module>\u001b[0;34m()\u001b[0m\n\u001b[0;32m----> 1\u001b[0;31m \u001b[0mcases_in_america\u001b[0m\u001b[0;34m.\u001b[0m\u001b[0mplot\u001b[0m\u001b[0;34m.\u001b[0m\u001b[0mpie\u001b[0m\u001b[0;34m(\u001b[0m\u001b[0;34m)\u001b[0m\u001b[0;34m\u001b[0m\u001b[0m\n\u001b[0m",
      "\u001b[0;32m~/anaconda3/envs/python3/lib/python3.6/site-packages/pandas/plotting/_core.py\u001b[0m in \u001b[0;36mpie\u001b[0;34m(self, y, **kwds)\u001b[0m\n\u001b[1;32m   3433\u001b[0m             \u001b[0;34m>>\u001b[0m\u001b[0;34m>\u001b[0m \u001b[0mplot\u001b[0m \u001b[0;34m=\u001b[0m \u001b[0mdf\u001b[0m\u001b[0;34m.\u001b[0m\u001b[0mplot\u001b[0m\u001b[0;34m.\u001b[0m\u001b[0mpie\u001b[0m\u001b[0;34m(\u001b[0m\u001b[0msubplots\u001b[0m\u001b[0;34m=\u001b[0m\u001b[0;32mTrue\u001b[0m\u001b[0;34m,\u001b[0m \u001b[0mfigsize\u001b[0m\u001b[0;34m=\u001b[0m\u001b[0;34m(\u001b[0m\u001b[0;36m6\u001b[0m\u001b[0;34m,\u001b[0m \u001b[0;36m3\u001b[0m\u001b[0;34m)\u001b[0m\u001b[0;34m)\u001b[0m\u001b[0;34m\u001b[0m\u001b[0m\n\u001b[1;32m   3434\u001b[0m         \"\"\"\n\u001b[0;32m-> 3435\u001b[0;31m         \u001b[0;32mreturn\u001b[0m \u001b[0mself\u001b[0m\u001b[0;34m(\u001b[0m\u001b[0mkind\u001b[0m\u001b[0;34m=\u001b[0m\u001b[0;34m'pie'\u001b[0m\u001b[0;34m,\u001b[0m \u001b[0my\u001b[0m\u001b[0;34m=\u001b[0m\u001b[0my\u001b[0m\u001b[0;34m,\u001b[0m \u001b[0;34m**\u001b[0m\u001b[0mkwds\u001b[0m\u001b[0;34m)\u001b[0m\u001b[0;34m\u001b[0m\u001b[0m\n\u001b[0m\u001b[1;32m   3436\u001b[0m \u001b[0;34m\u001b[0m\u001b[0m\n\u001b[1;32m   3437\u001b[0m     \u001b[0;32mdef\u001b[0m \u001b[0mscatter\u001b[0m\u001b[0;34m(\u001b[0m\u001b[0mself\u001b[0m\u001b[0;34m,\u001b[0m \u001b[0mx\u001b[0m\u001b[0;34m,\u001b[0m \u001b[0my\u001b[0m\u001b[0;34m,\u001b[0m \u001b[0ms\u001b[0m\u001b[0;34m=\u001b[0m\u001b[0;32mNone\u001b[0m\u001b[0;34m,\u001b[0m \u001b[0mc\u001b[0m\u001b[0;34m=\u001b[0m\u001b[0;32mNone\u001b[0m\u001b[0;34m,\u001b[0m \u001b[0;34m**\u001b[0m\u001b[0mkwds\u001b[0m\u001b[0;34m)\u001b[0m\u001b[0;34m:\u001b[0m\u001b[0;34m\u001b[0m\u001b[0m\n",
      "\u001b[0;32m~/anaconda3/envs/python3/lib/python3.6/site-packages/pandas/plotting/_core.py\u001b[0m in \u001b[0;36m__call__\u001b[0;34m(self, x, y, kind, ax, subplots, sharex, sharey, layout, figsize, use_index, title, grid, legend, style, logx, logy, loglog, xticks, yticks, xlim, ylim, rot, fontsize, colormap, table, yerr, xerr, secondary_y, sort_columns, **kwds)\u001b[0m\n\u001b[1;32m   2940\u001b[0m                           \u001b[0mfontsize\u001b[0m\u001b[0;34m=\u001b[0m\u001b[0mfontsize\u001b[0m\u001b[0;34m,\u001b[0m \u001b[0mcolormap\u001b[0m\u001b[0;34m=\u001b[0m\u001b[0mcolormap\u001b[0m\u001b[0;34m,\u001b[0m \u001b[0mtable\u001b[0m\u001b[0;34m=\u001b[0m\u001b[0mtable\u001b[0m\u001b[0;34m,\u001b[0m\u001b[0;34m\u001b[0m\u001b[0m\n\u001b[1;32m   2941\u001b[0m                           \u001b[0myerr\u001b[0m\u001b[0;34m=\u001b[0m\u001b[0myerr\u001b[0m\u001b[0;34m,\u001b[0m \u001b[0mxerr\u001b[0m\u001b[0;34m=\u001b[0m\u001b[0mxerr\u001b[0m\u001b[0;34m,\u001b[0m \u001b[0msecondary_y\u001b[0m\u001b[0;34m=\u001b[0m\u001b[0msecondary_y\u001b[0m\u001b[0;34m,\u001b[0m\u001b[0;34m\u001b[0m\u001b[0m\n\u001b[0;32m-> 2942\u001b[0;31m                           sort_columns=sort_columns, **kwds)\n\u001b[0m\u001b[1;32m   2943\u001b[0m     \u001b[0m__call__\u001b[0m\u001b[0;34m.\u001b[0m\u001b[0m__doc__\u001b[0m \u001b[0;34m=\u001b[0m \u001b[0mplot_frame\u001b[0m\u001b[0;34m.\u001b[0m\u001b[0m__doc__\u001b[0m\u001b[0;34m\u001b[0m\u001b[0m\n\u001b[1;32m   2944\u001b[0m \u001b[0;34m\u001b[0m\u001b[0m\n",
      "\u001b[0;32m~/anaconda3/envs/python3/lib/python3.6/site-packages/pandas/plotting/_core.py\u001b[0m in \u001b[0;36mplot_frame\u001b[0;34m(data, x, y, kind, ax, subplots, sharex, sharey, layout, figsize, use_index, title, grid, legend, style, logx, logy, loglog, xticks, yticks, xlim, ylim, rot, fontsize, colormap, table, yerr, xerr, secondary_y, sort_columns, **kwds)\u001b[0m\n\u001b[1;32m   1971\u001b[0m                  \u001b[0myerr\u001b[0m\u001b[0;34m=\u001b[0m\u001b[0myerr\u001b[0m\u001b[0;34m,\u001b[0m \u001b[0mxerr\u001b[0m\u001b[0;34m=\u001b[0m\u001b[0mxerr\u001b[0m\u001b[0;34m,\u001b[0m\u001b[0;34m\u001b[0m\u001b[0m\n\u001b[1;32m   1972\u001b[0m                  \u001b[0msecondary_y\u001b[0m\u001b[0;34m=\u001b[0m\u001b[0msecondary_y\u001b[0m\u001b[0;34m,\u001b[0m \u001b[0msort_columns\u001b[0m\u001b[0;34m=\u001b[0m\u001b[0msort_columns\u001b[0m\u001b[0;34m,\u001b[0m\u001b[0;34m\u001b[0m\u001b[0m\n\u001b[0;32m-> 1973\u001b[0;31m                  **kwds)\n\u001b[0m\u001b[1;32m   1974\u001b[0m \u001b[0;34m\u001b[0m\u001b[0m\n\u001b[1;32m   1975\u001b[0m \u001b[0;34m\u001b[0m\u001b[0m\n",
      "\u001b[0;32m~/anaconda3/envs/python3/lib/python3.6/site-packages/pandas/plotting/_core.py\u001b[0m in \u001b[0;36m_plot\u001b[0;34m(data, x, y, subplots, ax, kind, **kwds)\u001b[0m\n\u001b[1;32m   1747\u001b[0m             \u001b[0;32mif\u001b[0m \u001b[0my\u001b[0m \u001b[0;32mis\u001b[0m \u001b[0;32mNone\u001b[0m \u001b[0;32mand\u001b[0m \u001b[0msubplots\u001b[0m \u001b[0;32mis\u001b[0m \u001b[0;32mFalse\u001b[0m\u001b[0;34m:\u001b[0m\u001b[0;34m\u001b[0m\u001b[0m\n\u001b[1;32m   1748\u001b[0m                 \u001b[0mmsg\u001b[0m \u001b[0;34m=\u001b[0m \u001b[0;34m\"{0} requires either y column or 'subplots=True'\"\u001b[0m\u001b[0;34m\u001b[0m\u001b[0m\n\u001b[0;32m-> 1749\u001b[0;31m                 \u001b[0;32mraise\u001b[0m \u001b[0mValueError\u001b[0m\u001b[0;34m(\u001b[0m\u001b[0mmsg\u001b[0m\u001b[0;34m.\u001b[0m\u001b[0mformat\u001b[0m\u001b[0;34m(\u001b[0m\u001b[0mkind\u001b[0m\u001b[0;34m)\u001b[0m\u001b[0;34m)\u001b[0m\u001b[0;34m\u001b[0m\u001b[0m\n\u001b[0m\u001b[1;32m   1750\u001b[0m             \u001b[0;32melif\u001b[0m \u001b[0my\u001b[0m \u001b[0;32mis\u001b[0m \u001b[0;32mnot\u001b[0m \u001b[0;32mNone\u001b[0m\u001b[0;34m:\u001b[0m\u001b[0;34m\u001b[0m\u001b[0m\n\u001b[1;32m   1751\u001b[0m                 \u001b[0;32mif\u001b[0m \u001b[0mis_integer\u001b[0m\u001b[0;34m(\u001b[0m\u001b[0my\u001b[0m\u001b[0;34m)\u001b[0m \u001b[0;32mand\u001b[0m \u001b[0;32mnot\u001b[0m \u001b[0mdata\u001b[0m\u001b[0;34m.\u001b[0m\u001b[0mcolumns\u001b[0m\u001b[0;34m.\u001b[0m\u001b[0mholds_integer\u001b[0m\u001b[0;34m(\u001b[0m\u001b[0;34m)\u001b[0m\u001b[0;34m:\u001b[0m\u001b[0;34m\u001b[0m\u001b[0m\n",
      "\u001b[0;31mValueError\u001b[0m: pie requires either y column or 'subplots=True'"
     ]
    }
   ],
   "source": [
    "cases_in_america.plot.pie()"
   ]
  },
  {
   "cell_type": "code",
   "execution_count": 12,
   "metadata": {},
   "outputs": [
    {
     "data": {
      "text/plain": [
       "countriesAndTerritories\n",
       "Anguilla                                  0\n",
       "Antigua_and_Barbuda                       3\n",
       "Argentina                               693\n",
       "Aruba                                     3\n",
       "Bahamas                                  11\n",
       "Barbados                                  7\n",
       "Belize                                    2\n",
       "Bermuda                                   9\n",
       "Bolivia                                 475\n",
       "Bonaire, Saint Eustatius and Saba         0\n",
       "Brazil                                36455\n",
       "British_Virgin_Islands                    1\n",
       "Canada                                 7835\n",
       "Cayman_Islands                            1\n",
       "Chile                                  2264\n",
       "Colombia                               1308\n",
       "Costa_Rica                               10\n",
       "Cuba                                     83\n",
       "Curaçao                                   1\n",
       "Dominica                                  0\n",
       "Dominican_Republic                      539\n",
       "Ecuador                                3642\n",
       "El_Salvador                              58\n",
       "Falkland_Islands_(Malvinas)               0\n",
       "Greenland                                 0\n",
       "Grenada                                   0\n",
       "Guatemala                               267\n",
       "Guyana                                   12\n",
       "Haiti                                    54\n",
       "Honduras                                262\n",
       "Jamaica                                  10\n",
       "Mexico                                14053\n",
       "Montserrat                                1\n",
       "Nicaragua                                46\n",
       "Panama                                  398\n",
       "Paraguay                                 11\n",
       "Peru                                   5571\n",
       "Puerto_Rico                             142\n",
       "Saint_Kitts_and_Nevis                     0\n",
       "Saint_Lucia                               0\n",
       "Saint_Vincent_and_the_Grenadines          0\n",
       "Sint_Maarten                             15\n",
       "Suriname                                  2\n",
       "Trinidad_and_Tobago                       8\n",
       "Turks_and_Caicos_islands                  1\n",
       "United_States_Virgin_Islands              6\n",
       "United_States_of_America             111007\n",
       "Uruguay                                  23\n",
       "Venezuela                                22\n",
       "Name: deaths, dtype: int64"
      ]
     },
     "execution_count": 12,
     "metadata": {},
     "output_type": "execute_result"
    }
   ],
   "source": [
    "deaths_in_america = df.loc[df['continentExp'] == 'America' ]\n",
    "deaths_in_america.groupby('countriesAndTerritories').sum()['deaths']"
   ]
  },
  {
   "cell_type": "code",
   "execution_count": null,
   "metadata": {},
   "outputs": [],
   "source": []
  }
 ],
 "metadata": {
  "kernelspec": {
   "display_name": "conda_python3",
   "language": "python",
   "name": "conda_python3"
  },
  "language_info": {
   "codemirror_mode": {
    "name": "ipython",
    "version": 3
   },
   "file_extension": ".py",
   "mimetype": "text/x-python",
   "name": "python",
   "nbconvert_exporter": "python",
   "pygments_lexer": "ipython3",
   "version": "3.6.5"
  }
 },
 "nbformat": 4,
 "nbformat_minor": 4
}
